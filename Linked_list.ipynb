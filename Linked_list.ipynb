{
 "cells": [
  {
   "cell_type": "code",
   "execution_count": 1,
   "id": "7f5c2fc2",
   "metadata": {},
   "outputs": [
    {
     "name": "stderr",
     "output_type": "stream",
     "text": [
      "C:\\Users\\sanga\\anaconda3\\lib\\site-packages\\pandas\\core\\arrays\\masked.py:61: UserWarning: Pandas requires version '1.3.6' or newer of 'bottleneck' (version '1.3.5' currently installed).\n",
      "  from pandas.core import (\n"
     ]
    }
   ],
   "source": [
    "import pandas as pd\n",
    "import numpy as np"
   ]
  },
  {
   "cell_type": "code",
   "execution_count": 5,
   "id": "9988c15a",
   "metadata": {},
   "outputs": [],
   "source": [
    "class Node:\n",
    "    def __init__(self,value):\n",
    "        self.next=None\n",
    "        self.data=value"
   ]
  },
  {
   "cell_type": "code",
   "execution_count": 6,
   "id": "138d55e6",
   "metadata": {},
   "outputs": [],
   "source": [
    "node1=Node(34)"
   ]
  },
  {
   "cell_type": "code",
   "execution_count": 7,
   "id": "3cb73f6d",
   "metadata": {},
   "outputs": [
    {
     "name": "stdout",
     "output_type": "stream",
     "text": [
      "34\n"
     ]
    }
   ],
   "source": [
    "print(node1.data)"
   ]
  },
  {
   "cell_type": "code",
   "execution_count": 8,
   "id": "c9c03529",
   "metadata": {},
   "outputs": [],
   "source": [
    "class LinkedList:\n",
    "    def __init__(self):\n",
    "        # empty Linked List\n",
    "        self.head=None\n",
    "        self.n=0\n",
    "        \n",
    "    def __len__(self):\n",
    "        return self.n\n",
    "    \n",
    "    def insert_head(self,value):\n",
    "        new_node=Node(value)\n",
    "        new_node.next=self.head\n",
    "        self.head=new_node\n",
    "        self.n=self.n+1\n",
    "        \n",
    "    def __str__(self):\n",
    "        curr=self.head\n",
    "        res=''\n",
    "        while(curr!=None):\n",
    "            res=res+str(curr.data)+'->'\n",
    "            curr=curr.next\n",
    "        return res[:-2]\n",
    "    \n",
    "    def append(self,value):\n",
    "        new_node=Node(value)\n",
    "        \n",
    "        if self.head==None:\n",
    "            self.head=new_node\n",
    "            self.n=self.n+1\n",
    "            return\n",
    "        curr=self.head\n",
    "        while(curr.next!=None):\n",
    "            curr=curr.next\n",
    "        curr.next=new_node\n",
    "        self.n=self.n+1\n",
    "    \n",
    "    def insert_after(self,after,value):\n",
    "        new_node=Node(value)\n",
    "        curr=self.head\n",
    "        while(curr!=None):\n",
    "            if curr.data==after:\n",
    "                new_node.next=curr.next\n",
    "                curr.next=new_node\n",
    "                self.n=self.n+1\n",
    "                break\n",
    "            curr=curr.next\n",
    "        if curr==None:\n",
    "            return \"No after value found\"\n",
    "        \n",
    "    def clear(self):\n",
    "        self.head=None\n",
    "        self.n=0\n",
    "    \n",
    "    def delete_head(self):\n",
    "        if self.head==None:\n",
    "            return \"Empty Linked List\"\n",
    "        self.head=self.head.next\n",
    "        self.n=self.n-1\n",
    "        \n",
    "    def pop(self):\n",
    "        if self.head==None:\n",
    "            return \"Empty Linked List\"\n",
    "        curr=self.head\n",
    "        if curr.next==None:\n",
    "            return self.delete_head()\n",
    "        \n",
    "        while(curr.next.next!=None):\n",
    "            curr=curr.next\n",
    "        pop_value=curr.next.data\n",
    "        curr.next=None\n",
    "        self.n=self.n-1\n",
    "        return pop_value\n",
    "    \n",
    "    def remove(self,value):\n",
    "        if self.head==None:\n",
    "            return \"Empty Linked List\"\n",
    "        curr=self.head\n",
    "        if curr.data==value:\n",
    "            return self.delete_head()\n",
    "        while(curr.next!=None):\n",
    "            if curr.next.data==value:\n",
    "                break\n",
    "            curr=curr.next\n",
    "        if curr.next==None:\n",
    "            return \"value not found\"\n",
    "        else:\n",
    "            curr.next=curr.next.next\n",
    "            self.n=self.n-1\n",
    "    \n",
    "    def search_index(self,value):\n",
    "        idx=0\n",
    "        cur=self.head\n",
    "        while(cur!=None):\n",
    "            if cur.data==value:\n",
    "                return idx\n",
    "            cur=cur.next\n",
    "            idx+=1\n",
    "        return \"value not found\"\n",
    "    \n",
    "    def __getitem__(self,index):\n",
    "        curr=self.head\n",
    "        pos=0\n",
    "        while(curr!=None):\n",
    "            if index==pos:\n",
    "                return curr.data\n",
    "            curr=curr.next\n",
    "            pos+=1\n",
    "        return \"Index Out of range\"\n",
    "            "
   ]
  },
  {
   "cell_type": "code",
   "execution_count": 9,
   "id": "425a3986",
   "metadata": {},
   "outputs": [
    {
     "data": {
      "text/plain": [
       "[1, 2, 3, 4, 5]"
      ]
     },
     "execution_count": 9,
     "metadata": {},
     "output_type": "execute_result"
    }
   ],
   "source": [
    "[1,2,3,4,5]"
   ]
  },
  {
   "cell_type": "code",
   "execution_count": 10,
   "id": "09d7005d",
   "metadata": {},
   "outputs": [],
   "source": [
    "LL=LinkedList()"
   ]
  },
  {
   "cell_type": "code",
   "execution_count": 11,
   "id": "8be9edf3",
   "metadata": {},
   "outputs": [],
   "source": [
    "LL.insert_head(34)\n",
    "LL.insert_head(45)"
   ]
  },
  {
   "cell_type": "code",
   "execution_count": 12,
   "id": "6659cc8b",
   "metadata": {},
   "outputs": [],
   "source": [
    "LL.append(5)\n",
    "LL.append(67)"
   ]
  },
  {
   "cell_type": "code",
   "execution_count": 13,
   "id": "a8cef294",
   "metadata": {},
   "outputs": [
    {
     "name": "stdout",
     "output_type": "stream",
     "text": [
      "45->34->5->67\n"
     ]
    }
   ],
   "source": [
    "print(LL)"
   ]
  },
  {
   "cell_type": "code",
   "execution_count": 14,
   "id": "9721455f",
   "metadata": {},
   "outputs": [
    {
     "data": {
      "text/plain": [
       "4"
      ]
     },
     "execution_count": 14,
     "metadata": {},
     "output_type": "execute_result"
    }
   ],
   "source": [
    "len(LL)"
   ]
  },
  {
   "cell_type": "code",
   "execution_count": 15,
   "id": "ba7e6d46",
   "metadata": {},
   "outputs": [],
   "source": [
    "# LL.insert_after(5,7)"
   ]
  },
  {
   "cell_type": "code",
   "execution_count": 16,
   "id": "94c4f7ba",
   "metadata": {},
   "outputs": [
    {
     "name": "stdout",
     "output_type": "stream",
     "text": [
      "45->34->5->67\n"
     ]
    }
   ],
   "source": [
    "print(LL)"
   ]
  },
  {
   "cell_type": "code",
   "execution_count": 17,
   "id": "1b3e7e7c",
   "metadata": {},
   "outputs": [],
   "source": [
    "# LL.clear()"
   ]
  },
  {
   "cell_type": "code",
   "execution_count": 18,
   "id": "ccca5339",
   "metadata": {},
   "outputs": [
    {
     "name": "stdout",
     "output_type": "stream",
     "text": [
      "45->34->5->67\n"
     ]
    }
   ],
   "source": [
    "print(LL)"
   ]
  },
  {
   "cell_type": "code",
   "execution_count": 19,
   "id": "ed9cc9f1",
   "metadata": {},
   "outputs": [
    {
     "data": {
      "text/plain": [
       "'value not found'"
      ]
     },
     "execution_count": 19,
     "metadata": {},
     "output_type": "execute_result"
    }
   ],
   "source": [
    "LL.remove(8)"
   ]
  },
  {
   "cell_type": "code",
   "execution_count": 20,
   "id": "0d577bab",
   "metadata": {},
   "outputs": [
    {
     "name": "stdout",
     "output_type": "stream",
     "text": [
      "45->34->5->67\n"
     ]
    }
   ],
   "source": [
    "print(LL)"
   ]
  },
  {
   "cell_type": "code",
   "execution_count": 25,
   "id": "fd7941e3",
   "metadata": {},
   "outputs": [
    {
     "data": {
      "text/plain": [
       "5"
      ]
     },
     "execution_count": 25,
     "metadata": {},
     "output_type": "execute_result"
    }
   ],
   "source": [
    "LL[2]"
   ]
  },
  {
   "cell_type": "code",
   "execution_count": 29,
   "id": "f367e8ed",
   "metadata": {},
   "outputs": [
    {
     "data": {
      "text/plain": [
       "2"
      ]
     },
     "execution_count": 29,
     "metadata": {},
     "output_type": "execute_result"
    }
   ],
   "source": [
    "LL.search_index(5)"
   ]
  },
  {
   "cell_type": "code",
   "execution_count": 22,
   "id": "8d9b8656",
   "metadata": {},
   "outputs": [
    {
     "data": {
      "text/plain": [
       "'Index Out of range'"
      ]
     },
     "execution_count": 22,
     "metadata": {},
     "output_type": "execute_result"
    }
   ],
   "source": [
    "LL[10]"
   ]
  },
  {
   "cell_type": "code",
   "execution_count": 385,
   "id": "90e61e0d",
   "metadata": {},
   "outputs": [
    {
     "name": "stdout",
     "output_type": "stream",
     "text": [
      "34\n"
     ]
    }
   ],
   "source": [
    "print(LL[1])"
   ]
  },
  {
   "cell_type": "code",
   "execution_count": null,
   "id": "71834533",
   "metadata": {},
   "outputs": [],
   "source": []
  }
 ],
 "metadata": {
  "kernelspec": {
   "display_name": "Python 3 (ipykernel)",
   "language": "python",
   "name": "python3"
  },
  "language_info": {
   "codemirror_mode": {
    "name": "ipython",
    "version": 3
   },
   "file_extension": ".py",
   "mimetype": "text/x-python",
   "name": "python",
   "nbconvert_exporter": "python",
   "pygments_lexer": "ipython3",
   "version": "3.9.18"
  }
 },
 "nbformat": 4,
 "nbformat_minor": 5
}
