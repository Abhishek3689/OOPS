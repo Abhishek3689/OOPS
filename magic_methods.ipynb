{
 "cells": [
  {
   "cell_type": "markdown",
   "id": "c6031f4f",
   "metadata": {},
   "source": [
    "## Magic Methods"
   ]
  },
  {
   "cell_type": "code",
   "execution_count": 38,
   "id": "e6ce2a71",
   "metadata": {},
   "outputs": [],
   "source": [
    "class Fraction:\n",
    "    def __init__(self,num,den):\n",
    "        self.num=num\n",
    "        self.den=den\n",
    "    def __str__(self):\n",
    "        return f\"{self.num}/{self.den}\"\n",
    "    def __add__(self,other):\n",
    "        temp_num=self.num*other.den+self.den*other.num\n",
    "        temp_den=self.den*other.den\n",
    "        return f\"{temp_num}/{temp_den}\"\n",
    "    def __sub__(self,other):\n",
    "        temp_num=self.num*other.den-self.den*other.num\n",
    "        temp_den=self.den*other.den\n",
    "        return f\"{temp_num}/{temp_den}\"\n",
    "    def __mul__(self,other):\n",
    "        temp_num=self.num*other.num\n",
    "        temp_den=self.den*other.den\n",
    "        return f\"{temp_num}/{temp_den}\"\n",
    "    def __truediv__(self,other):\n",
    "        temp_num=self.num*other.den\n",
    "        temp_den=self.den*other.num\n",
    "        return f\"{temp_num}/{temp_den}\""
   ]
  },
  {
   "cell_type": "code",
   "execution_count": 39,
   "id": "14652fe8",
   "metadata": {},
   "outputs": [],
   "source": [
    "f1=Fraction(1,2)"
   ]
  },
  {
   "cell_type": "code",
   "execution_count": 40,
   "id": "c956d93a",
   "metadata": {},
   "outputs": [
    {
     "name": "stdout",
     "output_type": "stream",
     "text": [
      "1/2\n"
     ]
    }
   ],
   "source": [
    "print(f1)"
   ]
  },
  {
   "cell_type": "code",
   "execution_count": 41,
   "id": "6f5b065b",
   "metadata": {},
   "outputs": [],
   "source": [
    "f2=Fraction(5,6)"
   ]
  },
  {
   "cell_type": "code",
   "execution_count": 42,
   "id": "0b4e2697",
   "metadata": {},
   "outputs": [
    {
     "name": "stdout",
     "output_type": "stream",
     "text": [
      "5/6\n"
     ]
    }
   ],
   "source": [
    "print(f2)"
   ]
  },
  {
   "cell_type": "code",
   "execution_count": 43,
   "id": "53161a76",
   "metadata": {},
   "outputs": [
    {
     "name": "stdout",
     "output_type": "stream",
     "text": [
      "16/12\n"
     ]
    }
   ],
   "source": [
    "print(f1+f2)"
   ]
  },
  {
   "cell_type": "code",
   "execution_count": 44,
   "id": "90e8f87b",
   "metadata": {},
   "outputs": [
    {
     "name": "stdout",
     "output_type": "stream",
     "text": [
      "-4/12\n"
     ]
    }
   ],
   "source": [
    "print(f1-f2)"
   ]
  },
  {
   "cell_type": "code",
   "execution_count": 45,
   "id": "b822ab24",
   "metadata": {},
   "outputs": [
    {
     "name": "stdout",
     "output_type": "stream",
     "text": [
      "5/12\n"
     ]
    }
   ],
   "source": [
    "print(f1*f2)"
   ]
  },
  {
   "cell_type": "code",
   "execution_count": 46,
   "id": "986900b8",
   "metadata": {},
   "outputs": [
    {
     "name": "stdout",
     "output_type": "stream",
     "text": [
      "6/10\n"
     ]
    }
   ],
   "source": [
    "print(f1/f2)"
   ]
  },
  {
   "cell_type": "markdown",
   "id": "f97e2abb",
   "metadata": {},
   "source": [
    "## Encapsulation "
   ]
  },
  {
   "cell_type": "code",
   "execution_count": 58,
   "id": "70a1c9b4",
   "metadata": {},
   "outputs": [],
   "source": [
    "class Calculator:\n",
    "    def __init__(self,x,y):\n",
    "        self.__x=x\n",
    "        self.__y=y\n",
    "        \n",
    "    def get_data(self):\n",
    "        return f\"x:{self.__x},y:{self.__y}\"\n",
    "    \n",
    "    def set_data(self,a,b):\n",
    "        if a>b:\n",
    "            self.__x=a\n",
    "            self.__y=b\n",
    "            return \"Data Updated\"\n",
    "        else:\n",
    "            return \"Not allowed follow rules\"\n",
    "    def add_num(self):\n",
    "        return self.__x+self.__y\n",
    "    \n",
    "    \n",
    "    def sub_num(self):\n",
    "        return self.__x-self.__y\n",
    "    \n",
    "    def mul_num(self):\n",
    "        return self.__x*self.__y\n",
    "    \n",
    "    def div_num(self):\n",
    "        return self.__x/self.__y"
   ]
  },
  {
   "cell_type": "code",
   "execution_count": 59,
   "id": "4ca7e477",
   "metadata": {},
   "outputs": [],
   "source": [
    "c1=Calculator(10,5)"
   ]
  },
  {
   "cell_type": "code",
   "execution_count": 60,
   "id": "d86927ed",
   "metadata": {},
   "outputs": [
    {
     "data": {
      "text/plain": [
       "15"
      ]
     },
     "execution_count": 60,
     "metadata": {},
     "output_type": "execute_result"
    }
   ],
   "source": [
    "c1.add_num()"
   ]
  },
  {
   "cell_type": "code",
   "execution_count": 61,
   "id": "b5ee5b3c",
   "metadata": {},
   "outputs": [
    {
     "data": {
      "text/plain": [
       "5"
      ]
     },
     "execution_count": 61,
     "metadata": {},
     "output_type": "execute_result"
    }
   ],
   "source": [
    "c1.sub_num()"
   ]
  },
  {
   "cell_type": "code",
   "execution_count": 62,
   "id": "25f03ccb",
   "metadata": {},
   "outputs": [
    {
     "data": {
      "text/plain": [
       "50"
      ]
     },
     "execution_count": 62,
     "metadata": {},
     "output_type": "execute_result"
    }
   ],
   "source": [
    "c1.mul_num()"
   ]
  },
  {
   "cell_type": "code",
   "execution_count": 63,
   "id": "36a56bdd",
   "metadata": {},
   "outputs": [
    {
     "data": {
      "text/plain": [
       "2.0"
      ]
     },
     "execution_count": 63,
     "metadata": {},
     "output_type": "execute_result"
    }
   ],
   "source": [
    "c1.div_num()"
   ]
  },
  {
   "cell_type": "code",
   "execution_count": 64,
   "id": "5bcd7209",
   "metadata": {},
   "outputs": [
    {
     "data": {
      "text/plain": [
       "'x:10,y:5'"
      ]
     },
     "execution_count": 64,
     "metadata": {},
     "output_type": "execute_result"
    }
   ],
   "source": [
    "c1.get_data()"
   ]
  },
  {
   "cell_type": "code",
   "execution_count": 65,
   "id": "fbd74396",
   "metadata": {},
   "outputs": [
    {
     "data": {
      "text/plain": [
       "<__main__.Calculator at 0x19dcf444a90>"
      ]
     },
     "execution_count": 65,
     "metadata": {},
     "output_type": "execute_result"
    }
   ],
   "source": [
    "c1"
   ]
  },
  {
   "cell_type": "code",
   "execution_count": 66,
   "id": "c4f20b97",
   "metadata": {},
   "outputs": [],
   "source": [
    "c1.__x=34"
   ]
  },
  {
   "cell_type": "code",
   "execution_count": 67,
   "id": "93ea729a",
   "metadata": {},
   "outputs": [
    {
     "data": {
      "text/plain": [
       "'x:10,y:5'"
      ]
     },
     "execution_count": 67,
     "metadata": {},
     "output_type": "execute_result"
    }
   ],
   "source": [
    "c1.get_data()"
   ]
  },
  {
   "cell_type": "code",
   "execution_count": 68,
   "id": "988f899d",
   "metadata": {},
   "outputs": [],
   "source": [
    "__c1__x=20"
   ]
  },
  {
   "cell_type": "code",
   "execution_count": 69,
   "id": "1e7e90e4",
   "metadata": {},
   "outputs": [
    {
     "data": {
      "text/plain": [
       "'x:10,y:5'"
      ]
     },
     "execution_count": 69,
     "metadata": {},
     "output_type": "execute_result"
    }
   ],
   "source": [
    "c1.get_data()"
   ]
  },
  {
   "cell_type": "code",
   "execution_count": 71,
   "id": "fb23870c",
   "metadata": {},
   "outputs": [
    {
     "data": {
      "text/plain": [
       "'Data Updated'"
      ]
     },
     "execution_count": 71,
     "metadata": {},
     "output_type": "execute_result"
    }
   ],
   "source": [
    "c1.set_data(20,8)"
   ]
  },
  {
   "cell_type": "code",
   "execution_count": 72,
   "id": "3ce09994",
   "metadata": {},
   "outputs": [
    {
     "data": {
      "text/plain": [
       "'x:20,y:8'"
      ]
     },
     "execution_count": 72,
     "metadata": {},
     "output_type": "execute_result"
    }
   ],
   "source": [
    "c1.get_data()"
   ]
  },
  {
   "cell_type": "markdown",
   "id": "9f360071",
   "metadata": {},
   "source": [
    "## Property Decorator for Getter and Setter"
   ]
  },
  {
   "cell_type": "code",
   "execution_count": 151,
   "id": "61c98904",
   "metadata": {},
   "outputs": [],
   "source": [
    "## Getter and setter using property decorator here only one variable can be changed at a time,\n",
    "## if want to update more then use method"
   ]
  },
  {
   "cell_type": "code",
   "execution_count": 148,
   "id": "7cdb59b2",
   "metadata": {},
   "outputs": [],
   "source": [
    "class vehicles:\n",
    "    def __init__(self):\n",
    "        self.wheel=0\n",
    "        self.gear=None\n",
    "        self.brand=''\n",
    "        \n",
    "    def __str__(self):\n",
    "        if self.gear==None:\n",
    "            self.gear=='Automatic'\n",
    "        return f\"vehicle:{self.brand},wheels:{self.wheel},gear:{self.gear}\"\n",
    "        \n",
    "\n",
    "    def motor(self,brand,wheel,gear):\n",
    "        self.wheel=wheel\n",
    "        self.brand=brand\n",
    "        self.gear=gear\n",
    "        \n",
    "    \n",
    "        \n",
    "    @property\n",
    "    def vehicle_feature(self):\n",
    "        if self.wheel==2:\n",
    "            type_vehicle='Bike'\n",
    "        elif self.wheel==3:\n",
    "            type_vehicle='Auto'\n",
    "        else:\n",
    "            type_vehicle='Car'\n",
    "      \n",
    "        return f\"Vehicle Type :{type_vehicle} ,vehicle:{self.brand}, wheels:{self.wheel}, gear:{self.gear}\"\n",
    "    \n",
    "    @vehicle_feature.setter\n",
    "    def vehicle_feature(self,wheel):\n",
    "        if wheel<2 or wheel>4:\n",
    "            return \"Invaid entry\"\n",
    "        self.wheel=wheel\n",
    "        return \"Data Updated\""
   ]
  },
  {
   "cell_type": "code",
   "execution_count": 149,
   "id": "2baa9ca9",
   "metadata": {},
   "outputs": [],
   "source": [
    "v1=vehicles()"
   ]
  },
  {
   "cell_type": "code",
   "execution_count": 150,
   "id": "9cd7ee84",
   "metadata": {},
   "outputs": [
    {
     "name": "stdout",
     "output_type": "stream",
     "text": [
      "vehicle:,wheels:0,gear:None\n"
     ]
    }
   ],
   "source": [
    "print(v1)"
   ]
  },
  {
   "cell_type": "code",
   "execution_count": 142,
   "id": "7b2d26d8",
   "metadata": {},
   "outputs": [],
   "source": [
    "v1.motor('Hnda',2,4)"
   ]
  },
  {
   "cell_type": "code",
   "execution_count": 143,
   "id": "13c8b0c0",
   "metadata": {},
   "outputs": [
    {
     "name": "stdout",
     "output_type": "stream",
     "text": [
      "vehicle:Hnda,wheels:2,gear:4\n"
     ]
    }
   ],
   "source": [
    "print(v1)"
   ]
  },
  {
   "cell_type": "code",
   "execution_count": 144,
   "id": "89a7b962",
   "metadata": {},
   "outputs": [
    {
     "data": {
      "text/plain": [
       "'Vehicle Type :Bike ,vehicle:Hnda, wheels:2, gear:4'"
      ]
     },
     "execution_count": 144,
     "metadata": {},
     "output_type": "execute_result"
    }
   ],
   "source": [
    "v1.vehicle_feature"
   ]
  },
  {
   "cell_type": "code",
   "execution_count": 145,
   "id": "11505c9c",
   "metadata": {},
   "outputs": [],
   "source": [
    "v1.vehicle_feature=3"
   ]
  },
  {
   "cell_type": "code",
   "execution_count": 146,
   "id": "97f3e5e5",
   "metadata": {},
   "outputs": [
    {
     "data": {
      "text/plain": [
       "'Vehicle Type :Auto ,vehicle:Hnda, wheels:3, gear:4'"
      ]
     },
     "execution_count": 146,
     "metadata": {},
     "output_type": "execute_result"
    }
   ],
   "source": [
    "v1.vehicle_feature"
   ]
  },
  {
   "cell_type": "markdown",
   "id": "9158af13",
   "metadata": {},
   "source": [
    "## Class static Variable"
   ]
  },
  {
   "cell_type": "code",
   "execution_count": 286,
   "id": "a75a85b4",
   "metadata": {},
   "outputs": [],
   "source": [
    "class simple_class:\n",
    "    __class_cnter=0\n",
    "    def __init__(self):\n",
    "        self.__cnt=0\n",
    "        self.d1={}\n",
    "        simple_class.__class_cnter+=1\n",
    "        \n",
    "    def add(self,a,b):\n",
    "        self.__cnt=self.__cnt+1\n",
    "        res=a+b\n",
    "        key_p=f'operation_{self.__cnt}_add'\n",
    "        self.d1[key_p]=res\n",
    "        return res\n",
    "    \n",
    "    def sub(self,a,b):\n",
    "        self.__cnt=self.__cnt+1\n",
    "        res=a-b\n",
    "        key_p=f'operation_{self.__cnt}_sub'\n",
    "        self.d1[key_p]=res\n",
    "        return res\n",
    "    @staticmethod\n",
    "    def class_counter():\n",
    "        \n",
    "        return simple_class.__class_cnter\n",
    "    \n",
    "    def counter(self):\n",
    "        \n",
    "        return f\"dictionary_value :{self.d1}\\ncounter:{self.__cnt}\""
   ]
  },
  {
   "cell_type": "code",
   "execution_count": 287,
   "id": "d49c757e",
   "metadata": {},
   "outputs": [],
   "source": [
    "s1=simple_class()"
   ]
  },
  {
   "cell_type": "code",
   "execution_count": 288,
   "id": "de986bcd",
   "metadata": {},
   "outputs": [
    {
     "data": {
      "text/plain": [
       "2"
      ]
     },
     "execution_count": 288,
     "metadata": {},
     "output_type": "execute_result"
    }
   ],
   "source": [
    "s1.sub(5,3)"
   ]
  },
  {
   "cell_type": "code",
   "execution_count": 289,
   "id": "c6ee8642",
   "metadata": {},
   "outputs": [
    {
     "data": {
      "text/plain": [
       "7"
      ]
     },
     "execution_count": 289,
     "metadata": {},
     "output_type": "execute_result"
    }
   ],
   "source": [
    "s1.add(2,5)"
   ]
  },
  {
   "cell_type": "code",
   "execution_count": 290,
   "id": "7bd4abe6",
   "metadata": {},
   "outputs": [
    {
     "name": "stdout",
     "output_type": "stream",
     "text": [
      "dictionary_value :{'operation_1_sub': 2, 'operation_2_add': 7}\n",
      "counter:2\n"
     ]
    }
   ],
   "source": [
    "print(s1.counter())"
   ]
  },
  {
   "cell_type": "code",
   "execution_count": 291,
   "id": "d906c931",
   "metadata": {},
   "outputs": [],
   "source": [
    "# s1.class_cnt()"
   ]
  },
  {
   "cell_type": "code",
   "execution_count": 292,
   "id": "2162a767",
   "metadata": {},
   "outputs": [],
   "source": [
    "s2=simple_class()"
   ]
  },
  {
   "cell_type": "code",
   "execution_count": 293,
   "id": "a3207889",
   "metadata": {},
   "outputs": [
    {
     "name": "stdout",
     "output_type": "stream",
     "text": [
      "2\n"
     ]
    }
   ],
   "source": [
    "print(s1.class_counter())"
   ]
  },
  {
   "cell_type": "code",
   "execution_count": 294,
   "id": "af0656ef",
   "metadata": {},
   "outputs": [
    {
     "data": {
      "text/plain": [
       "2"
      ]
     },
     "execution_count": 294,
     "metadata": {},
     "output_type": "execute_result"
    }
   ],
   "source": [
    "s2.class_counter()"
   ]
  },
  {
   "cell_type": "code",
   "execution_count": null,
   "id": "ffa222bc",
   "metadata": {},
   "outputs": [],
   "source": []
  }
 ],
 "metadata": {
  "kernelspec": {
   "display_name": "Python 3 (ipykernel)",
   "language": "python",
   "name": "python3"
  },
  "language_info": {
   "codemirror_mode": {
    "name": "ipython",
    "version": 3
   },
   "file_extension": ".py",
   "mimetype": "text/x-python",
   "name": "python",
   "nbconvert_exporter": "python",
   "pygments_lexer": "ipython3",
   "version": "3.9.18"
  }
 },
 "nbformat": 4,
 "nbformat_minor": 5
}
