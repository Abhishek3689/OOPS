{
 "cells": [
  {
   "cell_type": "code",
   "execution_count": 13,
   "id": "74d6d6e3",
   "metadata": {},
   "outputs": [],
   "source": [
    "# best time to buy and sell toget maxProfit"
   ]
  },
  {
   "cell_type": "code",
   "execution_count": 9,
   "id": "ba48479e",
   "metadata": {},
   "outputs": [
    {
     "data": {
      "text/plain": [
       "[7, 1, 4, 12, 6, 10, 2, 15]"
      ]
     },
     "execution_count": 9,
     "metadata": {},
     "output_type": "execute_result"
    }
   ],
   "source": [
    "[7,1,4,12,6,10,2,15]"
   ]
  },
  {
   "cell_type": "code",
   "execution_count": 10,
   "id": "37fcd67b",
   "metadata": {},
   "outputs": [],
   "source": [
    "def best_time(arr:list):\n",
    "    min_price=arr[0]\n",
    "    max_profit=0\n",
    "    for i in range(1,len(arr)):\n",
    "        if arr[i]<min_price:\n",
    "            min_price=arr[i]\n",
    "        else:\n",
    "            profit=arr[i]-min_price\n",
    "            max_profit=max(profit,max_profit)\n",
    "            \n",
    "    return max_profit"
   ]
  },
  {
   "cell_type": "code",
   "execution_count": 12,
   "id": "480db123",
   "metadata": {},
   "outputs": [
    {
     "data": {
      "text/plain": [
       "14"
      ]
     },
     "execution_count": 12,
     "metadata": {},
     "output_type": "execute_result"
    }
   ],
   "source": [
    "best_time([7,1,4,12,6,10,15])"
   ]
  },
  {
   "cell_type": "code",
   "execution_count": 14,
   "id": "8629cb96",
   "metadata": {},
   "outputs": [],
   "source": [
    "## find minima and maxima"
   ]
  },
  {
   "cell_type": "code",
   "execution_count": 15,
   "id": "17b433d0",
   "metadata": {},
   "outputs": [],
   "source": [
    "def min_max(arr:list):\n",
    "    min_num=arr[0]\n",
    "    max_num=arr[0]\n",
    "    for num in arr:\n",
    "        if num<min_num:\n",
    "            min_num=num\n",
    "        elif num>max_num:\n",
    "            max_num=num\n",
    "    return min_num,max_num\n",
    "        "
   ]
  },
  {
   "cell_type": "code",
   "execution_count": 17,
   "id": "47c816f0",
   "metadata": {},
   "outputs": [
    {
     "data": {
      "text/plain": [
       "(4, 19)"
      ]
     },
     "execution_count": 17,
     "metadata": {},
     "output_type": "execute_result"
    }
   ],
   "source": [
    "min_max([7,19,4,12,6,10,15])"
   ]
  },
  {
   "cell_type": "code",
   "execution_count": 18,
   "id": "9c2bbe3f",
   "metadata": {},
   "outputs": [],
   "source": [
    "def power_element(a,n):\n",
    "    if n==0:\n",
    "        return 1\n",
    "    elif n==1:\n",
    "        return a\n",
    "    res=a*power_element(a,n-1)\n",
    "    return res"
   ]
  },
  {
   "cell_type": "code",
   "execution_count": 22,
   "id": "3fb82959",
   "metadata": {},
   "outputs": [
    {
     "data": {
      "text/plain": [
       "9"
      ]
     },
     "execution_count": 22,
     "metadata": {},
     "output_type": "execute_result"
    }
   ],
   "source": [
    "power_element(3,2)"
   ]
  },
  {
   "cell_type": "code",
   "execution_count": 55,
   "id": "986459d1",
   "metadata": {},
   "outputs": [],
   "source": [
    "class ATM:\n",
    "    def __init__(self):\n",
    "        self.pin=''\n",
    "        self.balance=0\n",
    "        self.menu()\n",
    "        \n",
    "    def menu(self):\n",
    "        user_input=input(\"\"\"\n",
    "        Hello welcome to Gramin Bank.Please Enter\n",
    "        1.create pin\n",
    "        2.show balance\n",
    "        3.deposit money\n",
    "        4.withdraw money\n",
    "        5.exit\n",
    "        \"\"\")\n",
    "        if user_input==\"1\":\n",
    "            res=self.create_pin()\n",
    "            print(res)\n",
    "        elif user_input==\"2\":\n",
    "            bal=self.display_balance()\n",
    "            return bal\n",
    "        elif user_input==\"3\":\n",
    "            dep=self.deposit_money()\n",
    "            return dep\n",
    "        elif user_input==\"4\":\n",
    "            withd=self.withdraw_money()\n",
    "            return withd\n",
    "        else:\n",
    "            ex=self.exit_window()\n",
    "            return ex\n",
    "        \n",
    "    def create_pin(self):\n",
    "        self.pin=input(\"Input 4 digit pin:\")\n",
    "        pin_len=len(self.pin)\n",
    "        if pin_len==4:\n",
    "            return \"Pin Genertaed Succesfully\"\n",
    "        else:\n",
    "            return  \"Invalid Entry\"\n",
    "    def display_balance(self):\n",
    "        pin_input=input(\"Enter the pin:\")\n",
    "        if pin_input==self.pin:\n",
    "            return self.balance\n",
    "        else:\n",
    "            return \"Invalid Pin\"\n",
    "            \n",
    "    \n",
    "    def deposit_money(self,amt):\n",
    "        pin_input=input(\"Enter the pin:\")\n",
    "        if pin_input==self.pin:\n",
    "            self.balance=self.balance+amt\n",
    "            return \"balance Updated Succesfully\"\n",
    "        else:\n",
    "            return \"Invalid Pin\"\n",
    "        \n",
    "    def withdraw_money(self,amt):\n",
    "        if self.balance<amt:\n",
    "            return \"Balance Unavailable\"\n",
    "        else:\n",
    "            self.balance=self.balance-amt\n",
    "    def exit_window(self):\n",
    "        return \"Thank you for Using Gramin Bank\"\n",
    "        "
   ]
  },
  {
   "cell_type": "code",
   "execution_count": 56,
   "id": "3975ed61",
   "metadata": {},
   "outputs": [
    {
     "name": "stdout",
     "output_type": "stream",
     "text": [
      "\n",
      "        Hello welcome to Gramin Bank.Please Enter\n",
      "        1.create pin\n",
      "        2.show balance\n",
      "        3.deposit money\n",
      "        4.withdraw money\n",
      "        5.exit\n",
      "        1\n",
      "Input 4 digit pin:1234\n",
      "Pin Genertaed Succesfully\n"
     ]
    }
   ],
   "source": [
    "a1=ATM()"
   ]
  },
  {
   "cell_type": "code",
   "execution_count": 57,
   "id": "ac3dfce6",
   "metadata": {},
   "outputs": [
    {
     "name": "stdout",
     "output_type": "stream",
     "text": [
      "Enter the pin:1234\n"
     ]
    },
    {
     "data": {
      "text/plain": [
       "0"
      ]
     },
     "execution_count": 57,
     "metadata": {},
     "output_type": "execute_result"
    }
   ],
   "source": [
    "a1.display_balance()"
   ]
  },
  {
   "cell_type": "code",
   "execution_count": 59,
   "id": "902d1044",
   "metadata": {},
   "outputs": [
    {
     "name": "stdout",
     "output_type": "stream",
     "text": [
      "Enter the pin:1234\n"
     ]
    },
    {
     "data": {
      "text/plain": [
       "'balance Updated Succesfully'"
      ]
     },
     "execution_count": 59,
     "metadata": {},
     "output_type": "execute_result"
    }
   ],
   "source": [
    "a1.deposit_money(100)"
   ]
  },
  {
   "cell_type": "code",
   "execution_count": 60,
   "id": "6d991776",
   "metadata": {},
   "outputs": [
    {
     "name": "stdout",
     "output_type": "stream",
     "text": [
      "Enter the pin:1234\n"
     ]
    },
    {
     "data": {
      "text/plain": [
       "100"
      ]
     },
     "execution_count": 60,
     "metadata": {},
     "output_type": "execute_result"
    }
   ],
   "source": [
    "a1.display_balance()"
   ]
  },
  {
   "cell_type": "code",
   "execution_count": 61,
   "id": "587d9139",
   "metadata": {},
   "outputs": [
    {
     "data": {
      "text/plain": [
       "'Balance Unavailable'"
      ]
     },
     "execution_count": 61,
     "metadata": {},
     "output_type": "execute_result"
    }
   ],
   "source": [
    "a1.withdraw_money(140)"
   ]
  },
  {
   "cell_type": "code",
   "execution_count": 25,
   "id": "77044a71",
   "metadata": {},
   "outputs": [
    {
     "data": {
      "text/plain": [
       "60"
      ]
     },
     "execution_count": 25,
     "metadata": {},
     "output_type": "execute_result"
    }
   ],
   "source": [
    "a1.display_balance()"
   ]
  },
  {
   "cell_type": "code",
   "execution_count": null,
   "id": "2f30f92f",
   "metadata": {},
   "outputs": [],
   "source": []
  }
 ],
 "metadata": {
  "kernelspec": {
   "display_name": "Python 3 (ipykernel)",
   "language": "python",
   "name": "python3"
  },
  "language_info": {
   "codemirror_mode": {
    "name": "ipython",
    "version": 3
   },
   "file_extension": ".py",
   "mimetype": "text/x-python",
   "name": "python",
   "nbconvert_exporter": "python",
   "pygments_lexer": "ipython3",
   "version": "3.9.18"
  }
 },
 "nbformat": 4,
 "nbformat_minor": 5
}
